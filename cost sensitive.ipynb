{
 "cells": [
  {
   "cell_type": "code",
   "execution_count": 1,
   "id": "26a014c1",
   "metadata": {},
   "outputs": [
    {
     "name": "stdout",
     "output_type": "stream",
     "text": [
      "       rainfall\n",
      "6     24.932436\n",
      "7     23.246956\n",
      "41    33.846075\n",
      "64    23.561225\n",
      "83    22.738915\n",
      "...         ...\n",
      "2534  21.900691\n",
      "2538  24.230811\n",
      "2541  22.366934\n",
      "2551  34.073259\n",
      "2552  21.649361\n",
      "\n",
      "[129 rows x 1 columns]\n"
     ]
    }
   ],
   "source": [
    "import numpy as np\n",
    "import pandas as pd\n",
    "\n",
    "# create example data\n",
    "data = pd.read_csv(\"rainfall_data.csv\")\n",
    "data=data.iloc[:,3:]\n",
    "# calculate 95th percentile for each column\n",
    "percentiles = data.quantile(0.95)\n",
    "\n",
    "# find rows with values above the 95th percentile\n",
    "above_95th = data[(data > percentiles).all(axis=1)]\n",
    "\n",
    "print(above_95th)"
   ]
  },
  {
   "cell_type": "code",
   "execution_count": 2,
   "id": "bddfc125",
   "metadata": {},
   "outputs": [
    {
     "name": "stdout",
     "output_type": "stream",
     "text": [
      "       rainfall\n",
      "6     24.932436\n",
      "7     23.246956\n",
      "41    33.846075\n",
      "64    23.561225\n",
      "83    22.738915\n",
      "...         ...\n",
      "2534  21.900691\n",
      "2538  24.230811\n",
      "2541  22.366934\n",
      "2551  34.073259\n",
      "2552  21.649361\n",
      "\n",
      "[129 rows x 1 columns]\n"
     ]
    }
   ],
   "source": [
    "import pandas as pd\n",
    "data = pd.read_csv(\"rainfall_data.csv\")\n",
    "data=data.iloc[:,3:]\n",
    "# calculate 95th percentile for each column\n",
    "percentiles = data.quantile(0.95)\n",
    "\n",
    "# filter rows above 95th percentile for each column\n",
    "filtered_data = data[(data > percentiles).any(axis=1)]\n",
    "\n",
    "\n",
    "\n",
    "\n",
    "print(filtered_data)"
   ]
  },
  {
   "cell_type": "code",
   "execution_count": 3,
   "id": "0cd61c44",
   "metadata": {},
   "outputs": [],
   "source": [
    "data = pd.read_csv(\"rainfall_data.csv\")\n",
    "# label extreme rows in original dataframe\n",
    "data['rainfall_class'] = 'normal'\n",
    "data.loc[data.index.isin(filtered_data.index), 'rainfall_class'] = 'extreme'\n"
   ]
  },
  {
   "cell_type": "code",
   "execution_count": 5,
   "id": "0d20fd5a",
   "metadata": {},
   "outputs": [
    {
     "data": {
      "text/html": [
       "<div>\n",
       "<style scoped>\n",
       "    .dataframe tbody tr th:only-of-type {\n",
       "        vertical-align: middle;\n",
       "    }\n",
       "\n",
       "    .dataframe tbody tr th {\n",
       "        vertical-align: top;\n",
       "    }\n",
       "\n",
       "    .dataframe thead th {\n",
       "        text-align: right;\n",
       "    }\n",
       "</style>\n",
       "<table border=\"1\" class=\"dataframe\">\n",
       "  <thead>\n",
       "    <tr style=\"text-align: right;\">\n",
       "      <th></th>\n",
       "      <th>date</th>\n",
       "      <th>windspeed</th>\n",
       "      <th>tpw</th>\n",
       "      <th>rainfall</th>\n",
       "      <th>rainfall_class</th>\n",
       "    </tr>\n",
       "  </thead>\n",
       "  <tbody>\n",
       "    <tr>\n",
       "      <th>0</th>\n",
       "      <td>6/1/2000</td>\n",
       "      <td>12.245595</td>\n",
       "      <td>0.033285</td>\n",
       "      <td>4.688589</td>\n",
       "      <td>normal</td>\n",
       "    </tr>\n",
       "    <tr>\n",
       "      <th>1</th>\n",
       "      <td>6/2/2000</td>\n",
       "      <td>12.825491</td>\n",
       "      <td>0.044874</td>\n",
       "      <td>11.330589</td>\n",
       "      <td>normal</td>\n",
       "    </tr>\n",
       "    <tr>\n",
       "      <th>2</th>\n",
       "      <td>6/3/2000</td>\n",
       "      <td>12.921664</td>\n",
       "      <td>0.010243</td>\n",
       "      <td>6.894713</td>\n",
       "      <td>normal</td>\n",
       "    </tr>\n",
       "    <tr>\n",
       "      <th>3</th>\n",
       "      <td>6/4/2000</td>\n",
       "      <td>15.149001</td>\n",
       "      <td>0.036881</td>\n",
       "      <td>4.613324</td>\n",
       "      <td>normal</td>\n",
       "    </tr>\n",
       "    <tr>\n",
       "      <th>4</th>\n",
       "      <td>6/5/2000</td>\n",
       "      <td>18.495907</td>\n",
       "      <td>0.139491</td>\n",
       "      <td>8.111635</td>\n",
       "      <td>normal</td>\n",
       "    </tr>\n",
       "    <tr>\n",
       "      <th>...</th>\n",
       "      <td>...</td>\n",
       "      <td>...</td>\n",
       "      <td>...</td>\n",
       "      <td>...</td>\n",
       "      <td>...</td>\n",
       "    </tr>\n",
       "    <tr>\n",
       "      <th>2557</th>\n",
       "      <td>9/26/2020</td>\n",
       "      <td>5.577215</td>\n",
       "      <td>0.009963</td>\n",
       "      <td>4.467977</td>\n",
       "      <td>normal</td>\n",
       "    </tr>\n",
       "    <tr>\n",
       "      <th>2558</th>\n",
       "      <td>9/27/2020</td>\n",
       "      <td>5.184293</td>\n",
       "      <td>0.002341</td>\n",
       "      <td>1.572182</td>\n",
       "      <td>normal</td>\n",
       "    </tr>\n",
       "    <tr>\n",
       "      <th>2559</th>\n",
       "      <td>9/28/2020</td>\n",
       "      <td>4.469007</td>\n",
       "      <td>0.000867</td>\n",
       "      <td>1.819019</td>\n",
       "      <td>normal</td>\n",
       "    </tr>\n",
       "    <tr>\n",
       "      <th>2560</th>\n",
       "      <td>9/29/2020</td>\n",
       "      <td>4.259090</td>\n",
       "      <td>0.001416</td>\n",
       "      <td>2.198017</td>\n",
       "      <td>normal</td>\n",
       "    </tr>\n",
       "    <tr>\n",
       "      <th>2561</th>\n",
       "      <td>9/30/2020</td>\n",
       "      <td>5.513838</td>\n",
       "      <td>0.002474</td>\n",
       "      <td>12.713634</td>\n",
       "      <td>normal</td>\n",
       "    </tr>\n",
       "  </tbody>\n",
       "</table>\n",
       "<p>2562 rows × 5 columns</p>\n",
       "</div>"
      ],
      "text/plain": [
       "           date  windspeed       tpw   rainfall rainfall_class\n",
       "0      6/1/2000  12.245595  0.033285   4.688589         normal\n",
       "1      6/2/2000  12.825491  0.044874  11.330589         normal\n",
       "2      6/3/2000  12.921664  0.010243   6.894713         normal\n",
       "3      6/4/2000  15.149001  0.036881   4.613324         normal\n",
       "4      6/5/2000  18.495907  0.139491   8.111635         normal\n",
       "...         ...        ...       ...        ...            ...\n",
       "2557  9/26/2020   5.577215  0.009963   4.467977         normal\n",
       "2558  9/27/2020   5.184293  0.002341   1.572182         normal\n",
       "2559  9/28/2020   4.469007  0.000867   1.819019         normal\n",
       "2560  9/29/2020   4.259090  0.001416   2.198017         normal\n",
       "2561  9/30/2020   5.513838  0.002474  12.713634         normal\n",
       "\n",
       "[2562 rows x 5 columns]"
      ]
     },
     "execution_count": 5,
     "metadata": {},
     "output_type": "execute_result"
    }
   ],
   "source": [
    "data"
   ]
  },
  {
   "cell_type": "code",
   "execution_count": 6,
   "id": "0b32a531",
   "metadata": {},
   "outputs": [],
   "source": [
    "import numpy as np\n",
    "import copy\n",
    "import tensorflow as tf\n",
    "from sklearn import preprocessing\n",
    "from tensorflow import keras\n",
    "import tensorflow as tf\n",
    "from tensorflow.keras.layers import Input, Dense\n",
    "from tensorflow.keras.models import Model\n",
    "from keras import backend as K\n",
    "import os\n",
    "import pandas as pd\n",
    "import matplotlib.pyplot as plt\n",
    "from numpy.random import seed\n",
    "from sklearn.tree import DecisionTreeClassifier\n",
    "import pandas as pd\n",
    "import skfuzzy as fuzz\n",
    "import matplotlib.pyplot as plt\n",
    "from sklearn.metrics import roc_curve, auc\n",
    "\n"
   ]
  },
  {
   "cell_type": "code",
   "execution_count": 7,
   "id": "6624bff9",
   "metadata": {},
   "outputs": [],
   "source": [
    "extreme_data=data[data[\"rainfall_class\"]==\"extreme\"]\n",
    "normal_data=data[data[\"rainfall_class\"]==\"normal\"]"
   ]
  },
  {
   "cell_type": "code",
   "execution_count": 53,
   "id": "e3051805",
   "metadata": {},
   "outputs": [],
   "source": [
    "\n",
    "def weighted_loss(normal_weight=10, extreme_weight=1):\n",
    "    def loss(y_true, y_pred):\n",
    "        normal_loss = K.mean(K.square(y_true[:, :3] - y_pred[:, :3]) * K.cast(y_true[:, 2] < 20.807473, 'float32')) * normal_weight\n",
    "        extreme_loss = K.mean(K.square(y_true[:, :3] - y_pred[:, :3]) * K.cast(y_true[:, 2] >= 20.807473, 'float32')) * extreme_weight\n",
    "\n",
    "        return (normal_loss + extreme_loss)\n",
    "    return loss\n",
    "\n"
   ]
  },
  {
   "cell_type": "code",
   "execution_count": 55,
   "id": "4ed4b913",
   "metadata": {},
   "outputs": [
    {
     "data": {
      "text/plain": [
       "array([[1.2245595e+01, 3.3285443e-02, 4.6885886e+00],\n",
       "       [1.2825491e+01, 4.4874474e-02, 1.1330589e+01],\n",
       "       [1.2921664e+01, 1.0243150e-02, 6.8947134e+00],\n",
       "       ...,\n",
       "       [4.4690070e+00, 8.6651702e-04, 1.8190190e+00],\n",
       "       [4.2590899e+00, 1.4163180e-03, 2.1980174e+00],\n",
       "       [5.5138383e+00, 2.4743171e-03, 1.2713634e+01]], dtype=float32)"
      ]
     },
     "execution_count": 55,
     "metadata": {},
     "output_type": "execute_result"
    }
   ],
   "source": [
    "train_data[:,:3]"
   ]
  },
  {
   "cell_type": "code",
   "execution_count": 54,
   "id": "176a71ad",
   "metadata": {},
   "outputs": [
    {
     "name": "stdout",
     "output_type": "stream",
     "text": [
      "Epoch 1/50\n"
     ]
    },
    {
     "ename": "InvalidArgumentError",
     "evalue": "Graph execution error:\n\nDetected at node 'loss/mul' defined at (most recent call last):\n    File \"C:\\Users\\shine\\anaconda3\\envs\\environment\\lib\\runpy.py\", line 197, in _run_module_as_main\n      return _run_code(code, main_globals, None,\n    File \"C:\\Users\\shine\\anaconda3\\envs\\environment\\lib\\runpy.py\", line 87, in _run_code\n      exec(code, run_globals)\n    File \"C:\\Users\\shine\\anaconda3\\envs\\environment\\lib\\site-packages\\ipykernel_launcher.py\", line 17, in <module>\n      app.launch_new_instance()\n    File \"C:\\Users\\shine\\anaconda3\\envs\\environment\\lib\\site-packages\\traitlets\\config\\application.py\", line 846, in launch_instance\n      app.start()\n    File \"C:\\Users\\shine\\anaconda3\\envs\\environment\\lib\\site-packages\\ipykernel\\kernelapp.py\", line 712, in start\n      self.io_loop.start()\n    File \"C:\\Users\\shine\\anaconda3\\envs\\environment\\lib\\site-packages\\tornado\\platform\\asyncio.py\", line 215, in start\n      self.asyncio_loop.run_forever()\n    File \"C:\\Users\\shine\\anaconda3\\envs\\environment\\lib\\asyncio\\base_events.py\", line 596, in run_forever\n      self._run_once()\n    File \"C:\\Users\\shine\\anaconda3\\envs\\environment\\lib\\asyncio\\base_events.py\", line 1890, in _run_once\n      handle._run()\n    File \"C:\\Users\\shine\\anaconda3\\envs\\environment\\lib\\asyncio\\events.py\", line 80, in _run\n      self._context.run(self._callback, *self._args)\n    File \"C:\\Users\\shine\\anaconda3\\envs\\environment\\lib\\site-packages\\ipykernel\\kernelbase.py\", line 510, in dispatch_queue\n      await self.process_one()\n    File \"C:\\Users\\shine\\anaconda3\\envs\\environment\\lib\\site-packages\\ipykernel\\kernelbase.py\", line 499, in process_one\n      await dispatch(*args)\n    File \"C:\\Users\\shine\\anaconda3\\envs\\environment\\lib\\site-packages\\ipykernel\\kernelbase.py\", line 406, in dispatch_shell\n      await result\n    File \"C:\\Users\\shine\\anaconda3\\envs\\environment\\lib\\site-packages\\ipykernel\\kernelbase.py\", line 730, in execute_request\n      reply_content = await reply_content\n    File \"C:\\Users\\shine\\anaconda3\\envs\\environment\\lib\\site-packages\\ipykernel\\ipkernel.py\", line 383, in do_execute\n      res = shell.run_cell(\n    File \"C:\\Users\\shine\\anaconda3\\envs\\environment\\lib\\site-packages\\ipykernel\\zmqshell.py\", line 528, in run_cell\n      return super().run_cell(*args, **kwargs)\n    File \"C:\\Users\\shine\\anaconda3\\envs\\environment\\lib\\site-packages\\IPython\\core\\interactiveshell.py\", line 2881, in run_cell\n      result = self._run_cell(\n    File \"C:\\Users\\shine\\anaconda3\\envs\\environment\\lib\\site-packages\\IPython\\core\\interactiveshell.py\", line 2936, in _run_cell\n      return runner(coro)\n    File \"C:\\Users\\shine\\anaconda3\\envs\\environment\\lib\\site-packages\\IPython\\core\\async_helpers.py\", line 129, in _pseudo_sync_runner\n      coro.send(None)\n    File \"C:\\Users\\shine\\anaconda3\\envs\\environment\\lib\\site-packages\\IPython\\core\\interactiveshell.py\", line 3135, in run_cell_async\n      has_raised = await self.run_ast_nodes(code_ast.body, cell_name,\n    File \"C:\\Users\\shine\\anaconda3\\envs\\environment\\lib\\site-packages\\IPython\\core\\interactiveshell.py\", line 3338, in run_ast_nodes\n      if await self.run_code(code, result, async_=asy):\n    File \"C:\\Users\\shine\\anaconda3\\envs\\environment\\lib\\site-packages\\IPython\\core\\interactiveshell.py\", line 3398, in run_code\n      exec(code_obj, self.user_global_ns, self.user_ns)\n    File \"C:\\Users\\shine\\AppData\\Local\\Temp\\ipykernel_20784\\1522837473.py\", line 22, in <cell line: 22>\n      history = autoencoder.fit(train_data, train_data, epochs=num_epochs, batch_size=batch_size, validation_split=0.2)\n    File \"C:\\Users\\shine\\anaconda3\\envs\\environment\\lib\\site-packages\\keras\\utils\\traceback_utils.py\", line 64, in error_handler\n      return fn(*args, **kwargs)\n    File \"C:\\Users\\shine\\anaconda3\\envs\\environment\\lib\\site-packages\\keras\\engine\\training.py\", line 1409, in fit\n      tmp_logs = self.train_function(iterator)\n    File \"C:\\Users\\shine\\anaconda3\\envs\\environment\\lib\\site-packages\\keras\\engine\\training.py\", line 1051, in train_function\n      return step_function(self, iterator)\n    File \"C:\\Users\\shine\\anaconda3\\envs\\environment\\lib\\site-packages\\keras\\engine\\training.py\", line 1040, in step_function\n      outputs = model.distribute_strategy.run(run_step, args=(data,))\n    File \"C:\\Users\\shine\\anaconda3\\envs\\environment\\lib\\site-packages\\keras\\engine\\training.py\", line 1030, in run_step\n      outputs = model.train_step(data)\n    File \"C:\\Users\\shine\\anaconda3\\envs\\environment\\lib\\site-packages\\keras\\engine\\training.py\", line 890, in train_step\n      loss = self.compute_loss(x, y, y_pred, sample_weight)\n    File \"C:\\Users\\shine\\anaconda3\\envs\\environment\\lib\\site-packages\\keras\\engine\\training.py\", line 948, in compute_loss\n      return self.compiled_loss(\n    File \"C:\\Users\\shine\\anaconda3\\envs\\environment\\lib\\site-packages\\keras\\engine\\compile_utils.py\", line 201, in __call__\n      loss_value = loss_obj(y_t, y_p, sample_weight=sw)\n    File \"C:\\Users\\shine\\anaconda3\\envs\\environment\\lib\\site-packages\\keras\\losses.py\", line 139, in __call__\n      losses = call_fn(y_true, y_pred)\n    File \"C:\\Users\\shine\\anaconda3\\envs\\environment\\lib\\site-packages\\keras\\losses.py\", line 243, in call\n      return ag_fn(y_true, y_pred, **self._fn_kwargs)\n    File \"C:\\Users\\shine\\AppData\\Local\\Temp\\ipykernel_20784\\2894753119.py\", line 3, in loss\n      normal_loss = K.mean(K.square(y_true[:, :3] - y_pred[:, :3]) * K.cast(y_true[:, 2] < 20.807473, 'float32')) * normal_weight\nNode: 'loss/mul'\nIncompatible shapes: [38] vs. [38,3]\n\t [[{{node loss/mul}}]] [Op:__inference_train_function_28118]",
     "output_type": "error",
     "traceback": [
      "\u001b[1;31m---------------------------------------------------------------------------\u001b[0m",
      "\u001b[1;31mInvalidArgumentError\u001b[0m                      Traceback (most recent call last)",
      "Input \u001b[1;32mIn [54]\u001b[0m, in \u001b[0;36m<cell line: 22>\u001b[1;34m()\u001b[0m\n\u001b[0;32m     19\u001b[0m autoencoder\u001b[38;5;241m.\u001b[39mcompile(optimizer\u001b[38;5;241m=\u001b[39m\u001b[38;5;124m'\u001b[39m\u001b[38;5;124madam\u001b[39m\u001b[38;5;124m'\u001b[39m, loss\u001b[38;5;241m=\u001b[39mweighted_loss())\n\u001b[0;32m     21\u001b[0m \u001b[38;5;66;03m# Train the model with the majority class\u001b[39;00m\n\u001b[1;32m---> 22\u001b[0m history \u001b[38;5;241m=\u001b[39m \u001b[43mautoencoder\u001b[49m\u001b[38;5;241;43m.\u001b[39;49m\u001b[43mfit\u001b[49m\u001b[43m(\u001b[49m\u001b[43mtrain_data\u001b[49m\u001b[43m,\u001b[49m\u001b[43m \u001b[49m\u001b[43mtrain_data\u001b[49m\u001b[43m,\u001b[49m\u001b[43m \u001b[49m\u001b[43mepochs\u001b[49m\u001b[38;5;241;43m=\u001b[39;49m\u001b[43mnum_epochs\u001b[49m\u001b[43m,\u001b[49m\u001b[43m \u001b[49m\u001b[43mbatch_size\u001b[49m\u001b[38;5;241;43m=\u001b[39;49m\u001b[43mbatch_size\u001b[49m\u001b[43m,\u001b[49m\u001b[43m \u001b[49m\u001b[43mvalidation_split\u001b[49m\u001b[38;5;241;43m=\u001b[39;49m\u001b[38;5;241;43m0.2\u001b[39;49m\u001b[43m)\u001b[49m\n",
      "File \u001b[1;32m~\\anaconda3\\envs\\environment\\lib\\site-packages\\keras\\utils\\traceback_utils.py:67\u001b[0m, in \u001b[0;36mfilter_traceback.<locals>.error_handler\u001b[1;34m(*args, **kwargs)\u001b[0m\n\u001b[0;32m     65\u001b[0m \u001b[38;5;28;01mexcept\u001b[39;00m \u001b[38;5;167;01mException\u001b[39;00m \u001b[38;5;28;01mas\u001b[39;00m e:  \u001b[38;5;66;03m# pylint: disable=broad-except\u001b[39;00m\n\u001b[0;32m     66\u001b[0m   filtered_tb \u001b[38;5;241m=\u001b[39m _process_traceback_frames(e\u001b[38;5;241m.\u001b[39m__traceback__)\n\u001b[1;32m---> 67\u001b[0m   \u001b[38;5;28;01mraise\u001b[39;00m e\u001b[38;5;241m.\u001b[39mwith_traceback(filtered_tb) \u001b[38;5;28;01mfrom\u001b[39;00m \u001b[38;5;28mNone\u001b[39m\n\u001b[0;32m     68\u001b[0m \u001b[38;5;28;01mfinally\u001b[39;00m:\n\u001b[0;32m     69\u001b[0m   \u001b[38;5;28;01mdel\u001b[39;00m filtered_tb\n",
      "File \u001b[1;32m~\\anaconda3\\envs\\environment\\lib\\site-packages\\tensorflow\\python\\eager\\execute.py:54\u001b[0m, in \u001b[0;36mquick_execute\u001b[1;34m(op_name, num_outputs, inputs, attrs, ctx, name)\u001b[0m\n\u001b[0;32m     52\u001b[0m \u001b[38;5;28;01mtry\u001b[39;00m:\n\u001b[0;32m     53\u001b[0m   ctx\u001b[38;5;241m.\u001b[39mensure_initialized()\n\u001b[1;32m---> 54\u001b[0m   tensors \u001b[38;5;241m=\u001b[39m pywrap_tfe\u001b[38;5;241m.\u001b[39mTFE_Py_Execute(ctx\u001b[38;5;241m.\u001b[39m_handle, device_name, op_name,\n\u001b[0;32m     55\u001b[0m                                       inputs, attrs, num_outputs)\n\u001b[0;32m     56\u001b[0m \u001b[38;5;28;01mexcept\u001b[39;00m core\u001b[38;5;241m.\u001b[39m_NotOkStatusException \u001b[38;5;28;01mas\u001b[39;00m e:\n\u001b[0;32m     57\u001b[0m   \u001b[38;5;28;01mif\u001b[39;00m name \u001b[38;5;129;01mis\u001b[39;00m \u001b[38;5;129;01mnot\u001b[39;00m \u001b[38;5;28;01mNone\u001b[39;00m:\n",
      "\u001b[1;31mInvalidArgumentError\u001b[0m: Graph execution error:\n\nDetected at node 'loss/mul' defined at (most recent call last):\n    File \"C:\\Users\\shine\\anaconda3\\envs\\environment\\lib\\runpy.py\", line 197, in _run_module_as_main\n      return _run_code(code, main_globals, None,\n    File \"C:\\Users\\shine\\anaconda3\\envs\\environment\\lib\\runpy.py\", line 87, in _run_code\n      exec(code, run_globals)\n    File \"C:\\Users\\shine\\anaconda3\\envs\\environment\\lib\\site-packages\\ipykernel_launcher.py\", line 17, in <module>\n      app.launch_new_instance()\n    File \"C:\\Users\\shine\\anaconda3\\envs\\environment\\lib\\site-packages\\traitlets\\config\\application.py\", line 846, in launch_instance\n      app.start()\n    File \"C:\\Users\\shine\\anaconda3\\envs\\environment\\lib\\site-packages\\ipykernel\\kernelapp.py\", line 712, in start\n      self.io_loop.start()\n    File \"C:\\Users\\shine\\anaconda3\\envs\\environment\\lib\\site-packages\\tornado\\platform\\asyncio.py\", line 215, in start\n      self.asyncio_loop.run_forever()\n    File \"C:\\Users\\shine\\anaconda3\\envs\\environment\\lib\\asyncio\\base_events.py\", line 596, in run_forever\n      self._run_once()\n    File \"C:\\Users\\shine\\anaconda3\\envs\\environment\\lib\\asyncio\\base_events.py\", line 1890, in _run_once\n      handle._run()\n    File \"C:\\Users\\shine\\anaconda3\\envs\\environment\\lib\\asyncio\\events.py\", line 80, in _run\n      self._context.run(self._callback, *self._args)\n    File \"C:\\Users\\shine\\anaconda3\\envs\\environment\\lib\\site-packages\\ipykernel\\kernelbase.py\", line 510, in dispatch_queue\n      await self.process_one()\n    File \"C:\\Users\\shine\\anaconda3\\envs\\environment\\lib\\site-packages\\ipykernel\\kernelbase.py\", line 499, in process_one\n      await dispatch(*args)\n    File \"C:\\Users\\shine\\anaconda3\\envs\\environment\\lib\\site-packages\\ipykernel\\kernelbase.py\", line 406, in dispatch_shell\n      await result\n    File \"C:\\Users\\shine\\anaconda3\\envs\\environment\\lib\\site-packages\\ipykernel\\kernelbase.py\", line 730, in execute_request\n      reply_content = await reply_content\n    File \"C:\\Users\\shine\\anaconda3\\envs\\environment\\lib\\site-packages\\ipykernel\\ipkernel.py\", line 383, in do_execute\n      res = shell.run_cell(\n    File \"C:\\Users\\shine\\anaconda3\\envs\\environment\\lib\\site-packages\\ipykernel\\zmqshell.py\", line 528, in run_cell\n      return super().run_cell(*args, **kwargs)\n    File \"C:\\Users\\shine\\anaconda3\\envs\\environment\\lib\\site-packages\\IPython\\core\\interactiveshell.py\", line 2881, in run_cell\n      result = self._run_cell(\n    File \"C:\\Users\\shine\\anaconda3\\envs\\environment\\lib\\site-packages\\IPython\\core\\interactiveshell.py\", line 2936, in _run_cell\n      return runner(coro)\n    File \"C:\\Users\\shine\\anaconda3\\envs\\environment\\lib\\site-packages\\IPython\\core\\async_helpers.py\", line 129, in _pseudo_sync_runner\n      coro.send(None)\n    File \"C:\\Users\\shine\\anaconda3\\envs\\environment\\lib\\site-packages\\IPython\\core\\interactiveshell.py\", line 3135, in run_cell_async\n      has_raised = await self.run_ast_nodes(code_ast.body, cell_name,\n    File \"C:\\Users\\shine\\anaconda3\\envs\\environment\\lib\\site-packages\\IPython\\core\\interactiveshell.py\", line 3338, in run_ast_nodes\n      if await self.run_code(code, result, async_=asy):\n    File \"C:\\Users\\shine\\anaconda3\\envs\\environment\\lib\\site-packages\\IPython\\core\\interactiveshell.py\", line 3398, in run_code\n      exec(code_obj, self.user_global_ns, self.user_ns)\n    File \"C:\\Users\\shine\\AppData\\Local\\Temp\\ipykernel_20784\\1522837473.py\", line 22, in <cell line: 22>\n      history = autoencoder.fit(train_data, train_data, epochs=num_epochs, batch_size=batch_size, validation_split=0.2)\n    File \"C:\\Users\\shine\\anaconda3\\envs\\environment\\lib\\site-packages\\keras\\utils\\traceback_utils.py\", line 64, in error_handler\n      return fn(*args, **kwargs)\n    File \"C:\\Users\\shine\\anaconda3\\envs\\environment\\lib\\site-packages\\keras\\engine\\training.py\", line 1409, in fit\n      tmp_logs = self.train_function(iterator)\n    File \"C:\\Users\\shine\\anaconda3\\envs\\environment\\lib\\site-packages\\keras\\engine\\training.py\", line 1051, in train_function\n      return step_function(self, iterator)\n    File \"C:\\Users\\shine\\anaconda3\\envs\\environment\\lib\\site-packages\\keras\\engine\\training.py\", line 1040, in step_function\n      outputs = model.distribute_strategy.run(run_step, args=(data,))\n    File \"C:\\Users\\shine\\anaconda3\\envs\\environment\\lib\\site-packages\\keras\\engine\\training.py\", line 1030, in run_step\n      outputs = model.train_step(data)\n    File \"C:\\Users\\shine\\anaconda3\\envs\\environment\\lib\\site-packages\\keras\\engine\\training.py\", line 890, in train_step\n      loss = self.compute_loss(x, y, y_pred, sample_weight)\n    File \"C:\\Users\\shine\\anaconda3\\envs\\environment\\lib\\site-packages\\keras\\engine\\training.py\", line 948, in compute_loss\n      return self.compiled_loss(\n    File \"C:\\Users\\shine\\anaconda3\\envs\\environment\\lib\\site-packages\\keras\\engine\\compile_utils.py\", line 201, in __call__\n      loss_value = loss_obj(y_t, y_p, sample_weight=sw)\n    File \"C:\\Users\\shine\\anaconda3\\envs\\environment\\lib\\site-packages\\keras\\losses.py\", line 139, in __call__\n      losses = call_fn(y_true, y_pred)\n    File \"C:\\Users\\shine\\anaconda3\\envs\\environment\\lib\\site-packages\\keras\\losses.py\", line 243, in call\n      return ag_fn(y_true, y_pred, **self._fn_kwargs)\n    File \"C:\\Users\\shine\\AppData\\Local\\Temp\\ipykernel_20784\\2894753119.py\", line 3, in loss\n      normal_loss = K.mean(K.square(y_true[:, :3] - y_pred[:, :3]) * K.cast(y_true[:, 2] < 20.807473, 'float32')) * normal_weight\nNode: 'loss/mul'\nIncompatible shapes: [38] vs. [38,3]\n\t [[{{node loss/mul}}]] [Op:__inference_train_function_28118]"
     ]
    }
   ],
   "source": [
    "reg_strengths = [0.1, 1, 10, 100]\n",
    "num_epochs = 50\n",
    "batch_size = 38\n",
    "#train_data = normal_data[[\"windspeed_discretized\",\"tpw_discretized\"]].values.astype(\"float32\")\n",
    "train_data = normal_data[[\"windspeed\",\"tpw\",\"rainfall\"]].values.astype(\"float32\")\n",
    "\n",
    "#best_reg_strength = find_best_reg_strength(train_data, reg_strengths, num_epochs, batch_size)\n",
    "\n",
    "# Define the autoencoder architecture with the best regularization strength\n",
    "input_layer = Input(shape=(3,),name='input')\n",
    "encoded = Dense(16, activation='relu', kernel_regularizer=tf.keras.regularizers.L2(l2=0.01),name='encoder')(input_layer)\n",
    "decoded = Dense(3, activation=None, name='decoder')(encoded)\n",
    "\n",
    "# Create the autoencoder\n",
    "autoencoder = Model(input_layer, decoded)\n",
    "\n",
    "# Compile the autoencoder with the weighted loss function\n",
    "#autoencoder.compile(optimizer='adam', loss=\"mse\")\n",
    "autoencoder.compile(optimizer='adam', loss=weighted_loss())\n",
    "\n",
    "# Train the model with the majority class\n",
    "history = autoencoder.fit(train_data, train_data, epochs=num_epochs, batch_size=batch_size, validation_split=0.2)\n",
    "#history = autoencoder.fit(train_data,epochs=num_epochs, batch_size=batch_size, validation_split=0.2, verbose=0)\n"
   ]
  },
  {
   "cell_type": "code",
   "execution_count": 25,
   "id": "5b66dfe3",
   "metadata": {},
   "outputs": [],
   "source": [
    "from tensorflow.keras.models import load_model\n",
    "\n",
    "# Save the model to a file\n",
    "autoencoder.save(\"my_autoencoder_model.h5\")\n"
   ]
  },
  {
   "cell_type": "code",
   "execution_count": 30,
   "id": "04ef47e7",
   "metadata": {},
   "outputs": [
    {
     "ename": "ValueError",
     "evalue": "Unknown loss function: cost_sensitive_loss. Please ensure this object is passed to the `custom_objects` argument. See https://www.tensorflow.org/guide/keras/save_and_serialize#registering_the_custom_object for details.",
     "output_type": "error",
     "traceback": [
      "\u001b[1;31m---------------------------------------------------------------------------\u001b[0m",
      "\u001b[1;31mValueError\u001b[0m                                Traceback (most recent call last)",
      "Input \u001b[1;32mIn [30]\u001b[0m, in \u001b[0;36m<cell line: 3>\u001b[1;34m()\u001b[0m\n\u001b[0;32m      1\u001b[0m \u001b[38;5;66;03m#test_data = data[[\"windspeed_discretized\",\"tpw_discretized\",\"rainfall_discretized\"]].values\u001b[39;00m\n\u001b[0;32m      2\u001b[0m test_data \u001b[38;5;241m=\u001b[39m data[[\u001b[38;5;124m\"\u001b[39m\u001b[38;5;124mwindspeed\u001b[39m\u001b[38;5;124m\"\u001b[39m,\u001b[38;5;124m\"\u001b[39m\u001b[38;5;124mtpw\u001b[39m\u001b[38;5;124m\"\u001b[39m,\u001b[38;5;124m\"\u001b[39m\u001b[38;5;124mrainfall\u001b[39m\u001b[38;5;124m\"\u001b[39m]]\u001b[38;5;241m.\u001b[39mvalues\n\u001b[1;32m----> 3\u001b[0m autoencoder \u001b[38;5;241m=\u001b[39m \u001b[43mload_model\u001b[49m\u001b[43m(\u001b[49m\u001b[38;5;124;43m\"\u001b[39;49m\u001b[38;5;124;43mmy_autoencoder_model.h5\u001b[39;49m\u001b[38;5;124;43m\"\u001b[39;49m\u001b[43m,\u001b[49m\u001b[43m \u001b[49m\u001b[43mcustom_objects\u001b[49m\u001b[38;5;241;43m=\u001b[39;49m\u001b[43m{\u001b[49m\u001b[38;5;124;43m\"\u001b[39;49m\u001b[38;5;124;43mcustom_cost_sensitive_loss\u001b[39;49m\u001b[38;5;124;43m\"\u001b[39;49m\u001b[43m:\u001b[49m\u001b[43m \u001b[49m\u001b[43mcustom_cost_sensitive_loss\u001b[49m\u001b[43m}\u001b[49m\u001b[43m)\u001b[49m\n\u001b[0;32m      5\u001b[0m predicted_data \u001b[38;5;241m=\u001b[39m autoencoder\u001b[38;5;241m.\u001b[39mpredict(test_data)\n",
      "File \u001b[1;32m~\\anaconda3\\envs\\environment\\lib\\site-packages\\keras\\utils\\traceback_utils.py:67\u001b[0m, in \u001b[0;36mfilter_traceback.<locals>.error_handler\u001b[1;34m(*args, **kwargs)\u001b[0m\n\u001b[0;32m     65\u001b[0m \u001b[38;5;28;01mexcept\u001b[39;00m \u001b[38;5;167;01mException\u001b[39;00m \u001b[38;5;28;01mas\u001b[39;00m e:  \u001b[38;5;66;03m# pylint: disable=broad-except\u001b[39;00m\n\u001b[0;32m     66\u001b[0m   filtered_tb \u001b[38;5;241m=\u001b[39m _process_traceback_frames(e\u001b[38;5;241m.\u001b[39m__traceback__)\n\u001b[1;32m---> 67\u001b[0m   \u001b[38;5;28;01mraise\u001b[39;00m e\u001b[38;5;241m.\u001b[39mwith_traceback(filtered_tb) \u001b[38;5;28;01mfrom\u001b[39;00m \u001b[38;5;28mNone\u001b[39m\n\u001b[0;32m     68\u001b[0m \u001b[38;5;28;01mfinally\u001b[39;00m:\n\u001b[0;32m     69\u001b[0m   \u001b[38;5;28;01mdel\u001b[39;00m filtered_tb\n",
      "File \u001b[1;32m~\\anaconda3\\envs\\environment\\lib\\site-packages\\keras\\utils\\generic_utils.py:709\u001b[0m, in \u001b[0;36mdeserialize_keras_object\u001b[1;34m(identifier, module_objects, custom_objects, printable_module_name)\u001b[0m\n\u001b[0;32m    707\u001b[0m   obj \u001b[38;5;241m=\u001b[39m module_objects\u001b[38;5;241m.\u001b[39mget(object_name)\n\u001b[0;32m    708\u001b[0m   \u001b[38;5;28;01mif\u001b[39;00m obj \u001b[38;5;129;01mis\u001b[39;00m \u001b[38;5;28;01mNone\u001b[39;00m:\n\u001b[1;32m--> 709\u001b[0m     \u001b[38;5;28;01mraise\u001b[39;00m \u001b[38;5;167;01mValueError\u001b[39;00m(\n\u001b[0;32m    710\u001b[0m         \u001b[38;5;124mf\u001b[39m\u001b[38;5;124m'\u001b[39m\u001b[38;5;124mUnknown \u001b[39m\u001b[38;5;132;01m{\u001b[39;00mprintable_module_name\u001b[38;5;132;01m}\u001b[39;00m\u001b[38;5;124m: \u001b[39m\u001b[38;5;132;01m{\u001b[39;00mobject_name\u001b[38;5;132;01m}\u001b[39;00m\u001b[38;5;124m. Please ensure \u001b[39m\u001b[38;5;124m'\u001b[39m\n\u001b[0;32m    711\u001b[0m         \u001b[38;5;124m'\u001b[39m\u001b[38;5;124mthis object is passed to the `custom_objects` argument. See \u001b[39m\u001b[38;5;124m'\u001b[39m\n\u001b[0;32m    712\u001b[0m         \u001b[38;5;124m'\u001b[39m\u001b[38;5;124mhttps://www.tensorflow.org/guide/keras/save_and_serialize\u001b[39m\u001b[38;5;124m'\u001b[39m\n\u001b[0;32m    713\u001b[0m         \u001b[38;5;124m'\u001b[39m\u001b[38;5;124m#registering_the_custom_object for details.\u001b[39m\u001b[38;5;124m'\u001b[39m)\n\u001b[0;32m    715\u001b[0m \u001b[38;5;66;03m# Classes passed by name are instantiated with no args, functions are\u001b[39;00m\n\u001b[0;32m    716\u001b[0m \u001b[38;5;66;03m# returned as-is.\u001b[39;00m\n\u001b[0;32m    717\u001b[0m \u001b[38;5;28;01mif\u001b[39;00m tf_inspect\u001b[38;5;241m.\u001b[39misclass(obj):\n",
      "\u001b[1;31mValueError\u001b[0m: Unknown loss function: cost_sensitive_loss. Please ensure this object is passed to the `custom_objects` argument. See https://www.tensorflow.org/guide/keras/save_and_serialize#registering_the_custom_object for details."
     ]
    }
   ],
   "source": [
    "#test_data = data[[\"windspeed_discretized\",\"tpw_discretized\",\"rainfall_discretized\"]].values\n",
    "test_data = data[[\"windspeed\",\"tpw\",\"rainfall\"]].values\n",
    "autoencoder = load_model(\"my_autoencoder_model.h5\", custom_objects={\"custom_cost_sensitive_loss\": custom_cost_sensitive_loss})\n",
    "\n",
    "predicted_data = autoencoder.predict(test_data)"
   ]
  },
  {
   "cell_type": "code",
   "execution_count": 36,
   "id": "c007d763",
   "metadata": {},
   "outputs": [
    {
     "data": {
      "text/plain": [
       "(2433, 3)"
      ]
     },
     "execution_count": 36,
     "metadata": {},
     "output_type": "execute_result"
    }
   ],
   "source": [
    "train_data.shape"
   ]
  }
 ],
 "metadata": {
  "kernelspec": {
   "display_name": "environment",
   "language": "python",
   "name": "other-env"
  },
  "language_info": {
   "codemirror_mode": {
    "name": "ipython",
    "version": 3
   },
   "file_extension": ".py",
   "mimetype": "text/x-python",
   "name": "python",
   "nbconvert_exporter": "python",
   "pygments_lexer": "ipython3",
   "version": "3.9.7"
  }
 },
 "nbformat": 4,
 "nbformat_minor": 5
}
